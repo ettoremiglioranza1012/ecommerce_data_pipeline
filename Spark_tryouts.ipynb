{
 "cells": [
  {
   "cell_type": "code",
   "execution_count": 1,
   "id": "07954ee8",
   "metadata": {},
   "outputs": [],
   "source": [
    "from pyspark.sql import SparkSession\n",
    "from pyspark.sql.functions import *\n",
    "from datetime import datetime"
   ]
  },
  {
   "cell_type": "code",
   "execution_count": 2,
   "id": "00b59219",
   "metadata": {},
   "outputs": [
    {
     "name": "stderr",
     "output_type": "stream",
     "text": [
      "25/04/09 23:15:30 WARN Utils: Your hostname, ettore1012-IdeaPad-Gaming-3-15ARH05 resolves to a loopback address: 127.0.1.1; using 192.168.15.113 instead (on interface wlp4s0)\n",
      "25/04/09 23:15:30 WARN Utils: Set SPARK_LOCAL_IP if you need to bind to another address\n"
     ]
    },
    {
     "name": "stdout",
     "output_type": "stream",
     "text": [
      ":: loading settings :: url = jar:file:/home/ettore1012/Project/ecommerce_data_pipeline-main/venv/lib/python3.12/site-packages/pyspark/jars/ivy-2.5.1.jar!/org/apache/ivy/core/settings/ivysettings.xml\n"
     ]
    },
    {
     "name": "stderr",
     "output_type": "stream",
     "text": [
      "Ivy Default Cache set to: /home/ettore1012/.ivy2/cache\n",
      "The jars for the packages stored in: /home/ettore1012/.ivy2/jars\n",
      "org.apache.hadoop#hadoop-aws added as a dependency\n",
      "com.amazonaws#aws-java-sdk-bundle added as a dependency\n",
      ":: resolving dependencies :: org.apache.spark#spark-submit-parent-37719e82-6979-4941-b052-0d24311134df;1.0\n",
      "\tconfs: [default]\n",
      "\tfound org.apache.hadoop#hadoop-aws;3.3.4 in central\n",
      "\tfound com.amazonaws#aws-java-sdk-bundle;1.12.262 in central\n",
      "\tfound org.wildfly.openssl#wildfly-openssl;1.0.7.Final in central\n",
      ":: resolution report :: resolve 193ms :: artifacts dl 7ms\n",
      "\t:: modules in use:\n",
      "\tcom.amazonaws#aws-java-sdk-bundle;1.12.262 from central in [default]\n",
      "\torg.apache.hadoop#hadoop-aws;3.3.4 from central in [default]\n",
      "\torg.wildfly.openssl#wildfly-openssl;1.0.7.Final from central in [default]\n",
      "\t---------------------------------------------------------------------\n",
      "\t|                  |            modules            ||   artifacts   |\n",
      "\t|       conf       | number| search|dwnlded|evicted|| number|dwnlded|\n",
      "\t---------------------------------------------------------------------\n",
      "\t|      default     |   3   |   0   |   0   |   0   ||   3   |   0   |\n",
      "\t---------------------------------------------------------------------\n",
      ":: retrieving :: org.apache.spark#spark-submit-parent-37719e82-6979-4941-b052-0d24311134df\n",
      "\tconfs: [default]\n",
      "\t0 artifacts copied, 3 already retrieved (0kB/5ms)\n",
      "25/04/09 23:15:31 WARN NativeCodeLoader: Unable to load native-hadoop library for your platform... using builtin-java classes where applicable\n",
      "Setting default log level to \"WARN\".\n",
      "To adjust logging level use sc.setLogLevel(newLevel). For SparkR, use setLogLevel(newLevel).\n"
     ]
    }
   ],
   "source": [
    "spark = SparkSession.builder \\\n",
    "    .appName(\"E-commerce analysis\") \\\n",
    "    .config(\"spark.jars.packages\", \"org.apache.hadoop:hadoop-aws:3.3.4,com.amazonaws:aws-java-sdk-bundle:1.12.262\") \\\n",
    "    .config(\"spark.hadoop.fs.s3a.endpoint\", \"http://localhost:9000\") \\\n",
    "    .config(\"spark.hadoop.fs.s3a.access.key\", \"minioadmin\") \\\n",
    "    .config(\"spark.hadoop.fs.s3a.secret.key\", \"minioadmin\") \\\n",
    "    .config(\"spark.hadoop.fs.s3a.path.style.access\", \"true\") \\\n",
    "    .config(\"spark.hadoop.fs.s3a.aws.credentials.provider\", \"org.apache.hadoop.fs.s3a.SimpleAWSCredentialsProvider\") \\\n",
    "    .getOrCreate()"
   ]
  },
  {
   "cell_type": "code",
   "execution_count": 3,
   "id": "bae22642",
   "metadata": {},
   "outputs": [],
   "source": [
    "# Ignoring some Spark's log\n",
    "spark.sparkContext.setLogLevel(\"ERROR\")"
   ]
  },
  {
   "cell_type": "code",
   "execution_count": 4,
   "id": "453aca59",
   "metadata": {},
   "outputs": [],
   "source": [
    "# Retrive current date, timestamps, week \n",
    "today = datetime.now()\n",
    "timestamp = today.strftime(\"%Y-%m-%d\")\n",
    "year, week_num, _ = today.isocalendar() # ISO standard week number\n",
    "partition_folder = f\"week_{year}_{week_num}\""
   ]
  },
  {
   "cell_type": "code",
   "execution_count": 5,
   "id": "e76e409e",
   "metadata": {},
   "outputs": [
    {
     "name": "stderr",
     "output_type": "stream",
     "text": [
      "                                                                                \r"
     ]
    }
   ],
   "source": [
    "# load data on spark\n",
    "try:\n",
    "    users_df = spark.read.json(f\"s3a://raw-data/users/{partition_folder}/users.json\", multiLine = True)\n",
    "except Exception as e:\n",
    "    print(f\"⚠️ Could not load users: {e}\")\n",
    "\n",
    "try:\n",
    "    products_df = spark.read.json(f\"s3a://raw-data/products/{partition_folder}/products.json\", multiLine = True)\n",
    "except Exception as e:\n",
    "    print(f\"⚠️ Could not load users: {e}\")\n",
    "\n",
    "try:\n",
    "    carts_df = spark.read.json(f\"s3a://raw-data/carts_{timestamp}.json\", multiLine = True)\n",
    "except Exception as e:\n",
    "    print(f\"⚠️ Could not load users: {e}\")"
   ]
  },
  {
   "cell_type": "code",
   "execution_count": 6,
   "id": "552d039f",
   "metadata": {},
   "outputs": [
    {
     "name": "stdout",
     "output_type": "stream",
     "text": [
      "\n",
      "\n",
      "Users schema\n",
      "\n",
      "root\n",
      " |-- __v: long (nullable = true)\n",
      " |-- address: struct (nullable = true)\n",
      " |    |-- city: string (nullable = true)\n",
      " |    |-- geolocation: struct (nullable = true)\n",
      " |    |    |-- lat: string (nullable = true)\n",
      " |    |    |-- long: string (nullable = true)\n",
      " |    |-- number: long (nullable = true)\n",
      " |    |-- street: string (nullable = true)\n",
      " |    |-- zipcode: string (nullable = true)\n",
      " |-- email: string (nullable = true)\n",
      " |-- id: long (nullable = true)\n",
      " |-- name: struct (nullable = true)\n",
      " |    |-- firstname: string (nullable = true)\n",
      " |    |-- lastname: string (nullable = true)\n",
      " |-- password: string (nullable = true)\n",
      " |-- phone: string (nullable = true)\n",
      " |-- username: string (nullable = true)\n",
      "\n",
      "+---+--------------------+------------------+---+-----------------+---------+--------------+---------+\n",
      "|__v|             address|             email| id|             name| password|         phone| username|\n",
      "+---+--------------------+------------------+---+-----------------+---------+--------------+---------+\n",
      "|  0|{kilcoole, {-37.3...|    john@gmail.com|  1|      {john, doe}|  m38rmF$|1-570-236-7033|    johnd|\n",
      "|  0|{kilcoole, {-37.3...|morrison@gmail.com|  2|{david, morrison}|   83r5^_|1-570-236-7033| mor_2314|\n",
      "|  0|{Cullman, {40.346...|   kevin@gmail.com|  3|    {kevin, ryan}|kev02937@|1-567-094-1345|kevinryan|\n",
      "|  0|{San Antonio, {50...|     don@gmail.com|  4|     {don, romer}|   ewedon|1-765-789-6734|   donero|\n",
      "|  0|{san Antonio, {40...|   derek@gmail.com|  5|  {derek, powell}| jklg*_56|1-956-001-1945|    derek|\n",
      "+---+--------------------+------------------+---+-----------------+---------+--------------+---------+\n",
      "only showing top 5 rows\n",
      "\n"
     ]
    }
   ],
   "source": [
    "# check schema of data\n",
    "print(\"\\n\\nUsers schema\\n\")\n",
    "users_df.printSchema()\n",
    "users_df.show(5)"
   ]
  },
  {
   "cell_type": "code",
   "execution_count": 7,
   "id": "bd0447ea",
   "metadata": {},
   "outputs": [
    {
     "name": "stdout",
     "output_type": "stream",
     "text": [
      "+---+-----------+--------+--------+------+----------------+----------+------------------+---+---------+--------+---------+--------------+---------+\n",
      "|__V|       city|     lat|    long|number|          street|   zipcode|             email| id|firstname|lastname| password|         phone| username|\n",
      "+---+-----------+--------+--------+------+----------------+----------+------------------+---+---------+--------+---------+--------------+---------+\n",
      "|  0|   kilcoole|-37.3159| 81.1496|  7682|        new road|12926-3874|    john@gmail.com|  1|     john|     doe|  m38rmF$|1-570-236-7033|    johnd|\n",
      "|  0|   kilcoole|-37.3159| 81.1496|  7267|       Lovers Ln|12926-3874|morrison@gmail.com|  2|    david|morrison|   83r5^_|1-570-236-7033| mor_2314|\n",
      "|  0|    Cullman| 40.3467|-30.1310|    86|      Frances Ct|29567-1452|   kevin@gmail.com|  3|    kevin|    ryan|kev02937@|1-567-094-1345|kevinryan|\n",
      "|  0|San Antonio| 50.3467|-20.1310|  6454|Hunters Creek Dr|98234-1734|     don@gmail.com|  4|      don|   romer|   ewedon|1-765-789-6734|   donero|\n",
      "|  0|san Antonio| 40.3467|-40.1310|   245|        adams St|80796-1234|   derek@gmail.com|  5|    derek|  powell| jklg*_56|1-956-001-1945|    derek|\n",
      "+---+-----------+--------+--------+------+----------------+----------+------------------+---+---------+--------+---------+--------------+---------+\n",
      "only showing top 5 rows\n",
      "\n"
     ]
    }
   ],
   "source": [
    "# Explode users_df\n",
    "users_df_flat = users_df.select(\n",
    "    col(\"__V\"),\n",
    "    col(\"address.city\"),\n",
    "    col(\"address.geolocation.lat\"),\n",
    "    col(\"address.geolocation.long\"),\n",
    "    col(\"address.number\"),\n",
    "    col(\"address.street\"),\n",
    "    col(\"address.zipcode\"),\n",
    "    col(\"email\"),\n",
    "    col(\"id\"),\n",
    "    col(\"name.firstname\"),\n",
    "    col(\"name.lastname\"),\n",
    "    col(\"password\"),\n",
    "    col(\"phone\"),\n",
    "    col(\"username\")\n",
    ")\n",
    "\n",
    "users_df_flat.show(5)"
   ]
  },
  {
   "cell_type": "code",
   "execution_count": 8,
   "id": "757fcfd3",
   "metadata": {},
   "outputs": [
    {
     "name": "stdout",
     "output_type": "stream",
     "text": [
      "\n",
      "\n",
      "Products schema\n",
      "\n",
      "root\n",
      " |-- category: string (nullable = true)\n",
      " |-- description: string (nullable = true)\n",
      " |-- id: long (nullable = true)\n",
      " |-- image: string (nullable = true)\n",
      " |-- price: double (nullable = true)\n",
      " |-- rating: struct (nullable = true)\n",
      " |    |-- count: long (nullable = true)\n",
      " |    |-- rate: double (nullable = true)\n",
      " |-- title: string (nullable = true)\n",
      "\n",
      "+--------------+--------------------+---+--------------------+------+----------+--------------------+\n",
      "|      category|         description| id|               image| price|    rating|               title|\n",
      "+--------------+--------------------+---+--------------------+------+----------+--------------------+\n",
      "|men's clothing|Your perfect pack...|  1|https://fakestore...|109.95|{120, 3.9}|Fjallraven - Fold...|\n",
      "|men's clothing|Slim-fitting styl...|  2|https://fakestore...|  22.3|{259, 4.1}|Mens Casual Premi...|\n",
      "|men's clothing|great outerwear j...|  3|https://fakestore...| 55.99|{500, 4.7}|  Mens Cotton Jacket|\n",
      "|men's clothing|The color could b...|  4|https://fakestore...| 15.99|{430, 2.1}|Mens Casual Slim Fit|\n",
      "|      jewelery|From our Legends ...|  5|https://fakestore...| 695.0|{400, 4.6}|John Hardy Women'...|\n",
      "+--------------+--------------------+---+--------------------+------+----------+--------------------+\n",
      "only showing top 5 rows\n",
      "\n"
     ]
    }
   ],
   "source": [
    "# check schema of data\n",
    "print(\"\\n\\nProducts schema\\n\")\n",
    "products_df.printSchema()\n",
    "products_df.show(5)"
   ]
  },
  {
   "cell_type": "code",
   "execution_count": 9,
   "id": "2a4ee330",
   "metadata": {},
   "outputs": [
    {
     "name": "stdout",
     "output_type": "stream",
     "text": [
      "+--------------+--------------------+---+--------------------+------+-----+----+--------------------+\n",
      "|      category|         description| id|               image| price|count|rate|               title|\n",
      "+--------------+--------------------+---+--------------------+------+-----+----+--------------------+\n",
      "|men's clothing|Your perfect pack...|  1|https://fakestore...|109.95|  120| 3.9|Fjallraven - Fold...|\n",
      "|men's clothing|Slim-fitting styl...|  2|https://fakestore...|  22.3|  259| 4.1|Mens Casual Premi...|\n",
      "|men's clothing|great outerwear j...|  3|https://fakestore...| 55.99|  500| 4.7|  Mens Cotton Jacket|\n",
      "|men's clothing|The color could b...|  4|https://fakestore...| 15.99|  430| 2.1|Mens Casual Slim Fit|\n",
      "|      jewelery|From our Legends ...|  5|https://fakestore...| 695.0|  400| 4.6|John Hardy Women'...|\n",
      "+--------------+--------------------+---+--------------------+------+-----+----+--------------------+\n",
      "only showing top 5 rows\n",
      "\n"
     ]
    }
   ],
   "source": [
    "products_df_flat = products_df.select(\n",
    "    col(\"category\"),\n",
    "    col(\"description\"),\n",
    "    col(\"id\"),\n",
    "    col(\"image\"),\n",
    "    col(\"price\"),\n",
    "    col(\"rating.count\"),\n",
    "    col(\"rating.rate\"),\n",
    "    col(\"title\")\n",
    ")\n",
    "\n",
    "products_df_flat.show(5)"
   ]
  },
  {
   "cell_type": "code",
   "execution_count": 10,
   "id": "9f862bb2",
   "metadata": {},
   "outputs": [
    {
     "name": "stdout",
     "output_type": "stream",
     "text": [
      "\n",
      "\n",
      "Carts schema\n",
      "\n",
      "root\n",
      " |-- __v: long (nullable = true)\n",
      " |-- date: string (nullable = true)\n",
      " |-- id: long (nullable = true)\n",
      " |-- products: array (nullable = true)\n",
      " |    |-- element: struct (containsNull = true)\n",
      " |    |    |-- productId: long (nullable = true)\n",
      " |    |    |-- quantity: long (nullable = true)\n",
      " |-- userId: long (nullable = true)\n",
      "\n",
      "+---+--------------------+---+--------------------+------+\n",
      "|__v|                date| id|            products|userId|\n",
      "+---+--------------------+---+--------------------+------+\n",
      "|  0|2020-03-02T00:00:...|  1|[{1, 4}, {2, 1}, ...|     1|\n",
      "|  0|2020-01-02T00:00:...|  2|[{2, 4}, {1, 10},...|     1|\n",
      "|  0|2020-03-01T00:00:...|  3|    [{1, 2}, {9, 1}]|     2|\n",
      "|  0|2020-01-01T00:00:...|  4|            [{1, 4}]|     3|\n",
      "|  0|2020-03-01T00:00:...|  5|    [{7, 1}, {8, 1}]|     3|\n",
      "+---+--------------------+---+--------------------+------+\n",
      "only showing top 5 rows\n",
      "\n"
     ]
    }
   ],
   "source": [
    "# check schema of data\n",
    "print(\"\\n\\nCarts schema\\n\")\n",
    "carts_df.printSchema()\n",
    "carts_df.show(5)"
   ]
  },
  {
   "cell_type": "code",
   "execution_count": 11,
   "id": "1435ff1e",
   "metadata": {},
   "outputs": [
    {
     "name": "stdout",
     "output_type": "stream",
     "text": [
      "+---+--------------------+---+----------+--------+\n",
      "|__V|                date| id|product_ID|quantity|\n",
      "+---+--------------------+---+----------+--------+\n",
      "|  0|2020-03-02T00:00:...|  1|         1|       4|\n",
      "|  0|2020-03-02T00:00:...|  1|         2|       1|\n",
      "|  0|2020-03-02T00:00:...|  1|         3|       6|\n",
      "|  0|2020-01-02T00:00:...|  2|         2|       4|\n",
      "|  0|2020-01-02T00:00:...|  2|         1|      10|\n",
      "+---+--------------------+---+----------+--------+\n",
      "only showing top 5 rows\n",
      "\n"
     ]
    }
   ],
   "source": [
    "carts_df_exploded = carts_df.withColumn(\"product\", explode(col(\"products\")))\n",
    "carts_df_flat = carts_df_exploded.select(\n",
    "    \"__V\",\n",
    "    \"date\",\n",
    "    \"id\",\n",
    "    col(\"product.productID\").alias(\"product_ID\"),\n",
    "    col(\"product.quantity\").alias(\"quantity\")\n",
    ")\n",
    "carts_df_flat.show(5)"
   ]
  },
  {
   "cell_type": "code",
   "execution_count": 12,
   "id": "d3b7a8b1",
   "metadata": {},
   "outputs": [],
   "source": [
    "# Clarify some column names\n",
    "products_df_flat = products_df_flat.withColumnRenamed(\"id\", \"Product_ID\")\n",
    "users_df_flat = users_df_flat.withColumnRenamed(\"id\", \"User_ID\")\n",
    "carts_df_flat = carts_df_flat.withColumnRenamed(\"id\", \"User_ID\")"
   ]
  },
  {
   "cell_type": "code",
   "execution_count": 16,
   "id": "40e63fbd",
   "metadata": {},
   "outputs": [
    {
     "name": "stdout",
     "output_type": "stream",
     "text": [
      "+---+--------------------+-------+----------+--------+----------------+--------------------+----------+--------------------+------+-----+----+--------------------+---+-----------+--------+--------+------+----------------+----------+------------------+-------+---------+--------+---------+--------------+---------+\n",
      "|__V|                date|User_ID|product_ID|quantity|        category|         description|Product_ID|               image| price|count|rate|               title|__V|       city|     lat|    long|number|          street|   zipcode|             email|User_ID|firstname|lastname| password|         phone| username|\n",
      "+---+--------------------+-------+----------+--------+----------------+--------------------+----------+--------------------+------+-----+----+--------------------+---+-----------+--------+--------+------+----------------+----------+------------------+-------+---------+--------+---------+--------------+---------+\n",
      "|  0|2020-03-02T00:00:...|      1|         1|       4|  men's clothing|Your perfect pack...|         1|https://fakestore...|109.95|  120| 3.9|Fjallraven - Fold...|  0|   kilcoole|-37.3159| 81.1496|  7682|        new road|12926-3874|    john@gmail.com|      1|     john|     doe|  m38rmF$|1-570-236-7033|    johnd|\n",
      "|  0|2020-03-02T00:00:...|      1|         2|       1|  men's clothing|Slim-fitting styl...|         2|https://fakestore...|  22.3|  259| 4.1|Mens Casual Premi...|  0|   kilcoole|-37.3159| 81.1496|  7682|        new road|12926-3874|    john@gmail.com|      1|     john|     doe|  m38rmF$|1-570-236-7033|    johnd|\n",
      "|  0|2020-03-02T00:00:...|      1|         3|       6|  men's clothing|great outerwear j...|         3|https://fakestore...| 55.99|  500| 4.7|  Mens Cotton Jacket|  0|   kilcoole|-37.3159| 81.1496|  7682|        new road|12926-3874|    john@gmail.com|      1|     john|     doe|  m38rmF$|1-570-236-7033|    johnd|\n",
      "|  0|2020-01-02T00:00:...|      2|         2|       4|  men's clothing|Slim-fitting styl...|         2|https://fakestore...|  22.3|  259| 4.1|Mens Casual Premi...|  0|   kilcoole|-37.3159| 81.1496|  7267|       Lovers Ln|12926-3874|morrison@gmail.com|      2|    david|morrison|   83r5^_|1-570-236-7033| mor_2314|\n",
      "|  0|2020-01-02T00:00:...|      2|         1|      10|  men's clothing|Your perfect pack...|         1|https://fakestore...|109.95|  120| 3.9|Fjallraven - Fold...|  0|   kilcoole|-37.3159| 81.1496|  7267|       Lovers Ln|12926-3874|morrison@gmail.com|      2|    david|morrison|   83r5^_|1-570-236-7033| mor_2314|\n",
      "|  0|2020-01-02T00:00:...|      2|         5|       2|        jewelery|From our Legends ...|         5|https://fakestore...| 695.0|  400| 4.6|John Hardy Women'...|  0|   kilcoole|-37.3159| 81.1496|  7267|       Lovers Ln|12926-3874|morrison@gmail.com|      2|    david|morrison|   83r5^_|1-570-236-7033| mor_2314|\n",
      "|  0|2020-03-01T00:00:...|      3|         1|       2|  men's clothing|Your perfect pack...|         1|https://fakestore...|109.95|  120| 3.9|Fjallraven - Fold...|  0|    Cullman| 40.3467|-30.1310|    86|      Frances Ct|29567-1452|   kevin@gmail.com|      3|    kevin|    ryan|kev02937@|1-567-094-1345|kevinryan|\n",
      "|  0|2020-03-01T00:00:...|      3|         9|       1|     electronics|USB 3.0 and USB 2...|         9|https://fakestore...|  64.0|  203| 3.3|WD 2TB Elements P...|  0|    Cullman| 40.3467|-30.1310|    86|      Frances Ct|29567-1452|   kevin@gmail.com|      3|    kevin|    ryan|kev02937@|1-567-094-1345|kevinryan|\n",
      "|  0|2020-01-01T00:00:...|      4|         1|       4|  men's clothing|Your perfect pack...|         1|https://fakestore...|109.95|  120| 3.9|Fjallraven - Fold...|  0|San Antonio| 50.3467|-20.1310|  6454|Hunters Creek Dr|98234-1734|     don@gmail.com|      4|      don|   romer|   ewedon|1-765-789-6734|   donero|\n",
      "|  0|2020-03-01T00:00:...|      5|         7|       1|        jewelery|Classic Created W...|         7|https://fakestore...|  9.99|  400| 3.0|White Gold Plated...|  0|san Antonio| 40.3467|-40.1310|   245|        adams St|80796-1234|   derek@gmail.com|      5|    derek|  powell| jklg*_56|1-956-001-1945|    derek|\n",
      "|  0|2020-03-01T00:00:...|      5|         8|       1|        jewelery|Rose Gold Plated ...|         8|https://fakestore...| 10.99|  100| 1.9|Pierced Owl Rose ...|  0|san Antonio| 40.3467|-40.1310|   245|        adams St|80796-1234|   derek@gmail.com|      5|    derek|  powell| jklg*_56|1-956-001-1945|    derek|\n",
      "|  0|2020-03-01T00:00:...|      6|        10|       2|     electronics|Easy upgrade for ...|        10|https://fakestore...| 109.0|  470| 2.9|SanDisk SSD PLUS ...|  0|    el paso| 20.1677|-10.6789|   124|     prospect st|12346-0456| david_r@gmail.com|      6|    david| russell| 3478*#54|1-678-345-9856|  david_r|\n",
      "|  0|2020-03-01T00:00:...|      6|        12|       3|     electronics|Expand your PS4 g...|        12|https://fakestore...| 114.0|  400| 4.8|WD 4TB Gaming Dri...|  0|    el paso| 20.1677|-10.6789|   124|     prospect st|12346-0456| david_r@gmail.com|      6|    david| russell| 3478*#54|1-678-345-9856|  david_r|\n",
      "|  0|2020-03-01T00:00:...|      7|        18|       1|women's clothing|95% RAYON 5% SPAN...|        18|https://fakestore...|  9.85|  130| 4.7|MBJ Women's Solid...|  0|     fresno| 10.3456| 20.6419|  1342|       saddle st|96378-0245|  miriam@gmail.com|      7|   miriam|  snyder| f238&@*$|1-123-943-0563|   snyder|\n",
      "+---+--------------------+-------+----------+--------+----------------+--------------------+----------+--------------------+------+-----+----+--------------------+---+-----------+--------+--------+------+----------------+----------+------------------+-------+---------+--------+---------+--------------+---------+\n",
      "\n"
     ]
    }
   ],
   "source": [
    "# Build enriched carts facts data sets with static data from users and products\n",
    "enriched_df = carts_df_flat.join(\n",
    "    products_df_flat,\n",
    "    products_df_flat.Product_ID == carts_df_flat.product_ID,\n",
    "    \"left_outer\"\n",
    ")\n",
    "\n",
    "enriched_df = enriched_df.join(\n",
    "    users_df_flat,\n",
    "    users_df_flat.User_ID == enriched_df.User_ID,\n",
    "    \"left_outer\" \n",
    ")\n",
    "\n",
    "enriched_df.show()"
   ]
  },
  {
   "cell_type": "code",
   "execution_count": null,
   "id": "bb82da6b",
   "metadata": {},
   "outputs": [],
   "source": []
  }
 ],
 "metadata": {
  "kernelspec": {
   "display_name": "venv",
   "language": "python",
   "name": "python3"
  },
  "language_info": {
   "codemirror_mode": {
    "name": "ipython",
    "version": 3
   },
   "file_extension": ".py",
   "mimetype": "text/x-python",
   "name": "python",
   "nbconvert_exporter": "python",
   "pygments_lexer": "ipython3",
   "version": "3.12.3"
  }
 },
 "nbformat": 4,
 "nbformat_minor": 5
}
