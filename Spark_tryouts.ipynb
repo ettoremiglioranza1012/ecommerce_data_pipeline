{
 "cells": [
  {
   "cell_type": "code",
   "execution_count": 1,
   "id": "07954ee8",
   "metadata": {},
   "outputs": [],
   "source": [
    "from pyspark.sql import SparkSession\n",
    "from pyspark.sql.functions import *\n",
    "from datetime import datetime"
   ]
  },
  {
   "cell_type": "code",
   "execution_count": 2,
   "id": "00b59219",
   "metadata": {},
   "outputs": [
    {
     "name": "stderr",
     "output_type": "stream",
     "text": [
      "25/04/10 22:14:15 WARN Utils: Your hostname, ettore1012-IdeaPad-Gaming-3-15ARH05 resolves to a loopback address: 127.0.1.1; using 192.168.15.113 instead (on interface wlp4s0)\n",
      "25/04/10 22:14:15 WARN Utils: Set SPARK_LOCAL_IP if you need to bind to another address\n"
     ]
    },
    {
     "name": "stdout",
     "output_type": "stream",
     "text": [
      ":: loading settings :: url = jar:file:/home/ettore1012/Project/ecommerce_data_pipeline-main/venv/lib/python3.12/site-packages/pyspark/jars/ivy-2.5.1.jar!/org/apache/ivy/core/settings/ivysettings.xml\n"
     ]
    },
    {
     "name": "stderr",
     "output_type": "stream",
     "text": [
      "Ivy Default Cache set to: /home/ettore1012/.ivy2/cache\n",
      "The jars for the packages stored in: /home/ettore1012/.ivy2/jars\n",
      "org.apache.hadoop#hadoop-aws added as a dependency\n",
      "com.amazonaws#aws-java-sdk-bundle added as a dependency\n",
      ":: resolving dependencies :: org.apache.spark#spark-submit-parent-1bb96e10-ff94-4528-909a-64e282b189fa;1.0\n",
      "\tconfs: [default]\n",
      "\tfound org.apache.hadoop#hadoop-aws;3.3.4 in central\n",
      "\tfound com.amazonaws#aws-java-sdk-bundle;1.12.262 in central\n",
      "\tfound org.wildfly.openssl#wildfly-openssl;1.0.7.Final in central\n",
      ":: resolution report :: resolve 191ms :: artifacts dl 11ms\n",
      "\t:: modules in use:\n",
      "\tcom.amazonaws#aws-java-sdk-bundle;1.12.262 from central in [default]\n",
      "\torg.apache.hadoop#hadoop-aws;3.3.4 from central in [default]\n",
      "\torg.wildfly.openssl#wildfly-openssl;1.0.7.Final from central in [default]\n",
      "\t---------------------------------------------------------------------\n",
      "\t|                  |            modules            ||   artifacts   |\n",
      "\t|       conf       | number| search|dwnlded|evicted|| number|dwnlded|\n",
      "\t---------------------------------------------------------------------\n",
      "\t|      default     |   3   |   0   |   0   |   0   ||   3   |   0   |\n",
      "\t---------------------------------------------------------------------\n",
      ":: retrieving :: org.apache.spark#spark-submit-parent-1bb96e10-ff94-4528-909a-64e282b189fa\n",
      "\tconfs: [default]\n",
      "\t0 artifacts copied, 3 already retrieved (0kB/8ms)\n",
      "25/04/10 22:14:16 WARN NativeCodeLoader: Unable to load native-hadoop library for your platform... using builtin-java classes where applicable\n",
      "Setting default log level to \"WARN\".\n",
      "To adjust logging level use sc.setLogLevel(newLevel). For SparkR, use setLogLevel(newLevel).\n"
     ]
    }
   ],
   "source": [
    "spark = SparkSession.builder \\\n",
    "    .appName(\"E-commerce analysis\") \\\n",
    "    .config(\"spark.jars.packages\", \"org.apache.hadoop:hadoop-aws:3.3.4,com.amazonaws:aws-java-sdk-bundle:1.12.262\") \\\n",
    "    .config(\"spark.hadoop.fs.s3a.endpoint\", \"http://localhost:9000\") \\\n",
    "    .config(\"spark.hadoop.fs.s3a.access.key\", \"minioadmin\") \\\n",
    "    .config(\"spark.hadoop.fs.s3a.secret.key\", \"minioadmin\") \\\n",
    "    .config(\"spark.hadoop.fs.s3a.path.style.access\", \"true\") \\\n",
    "    .config(\"spark.hadoop.fs.s3a.aws.credentials.provider\", \"org.apache.hadoop.fs.s3a.SimpleAWSCredentialsProvider\") \\\n",
    "    .getOrCreate()"
   ]
  },
  {
   "cell_type": "code",
   "execution_count": 3,
   "id": "bae22642",
   "metadata": {},
   "outputs": [],
   "source": [
    "# Ignoring some Spark's log\n",
    "spark.sparkContext.setLogLevel(\"ERROR\")"
   ]
  },
  {
   "cell_type": "code",
   "execution_count": 4,
   "id": "453aca59",
   "metadata": {},
   "outputs": [],
   "source": [
    "# Retrive current date, timestamps, week \n",
    "today = datetime.now()\n",
    "timestamp = today.strftime(\"%Y-%m-%d\")\n",
    "year, week_num, _ = today.isocalendar() # ISO standard week number\n",
    "partition_folder = f\"week_{year}_{week_num}\""
   ]
  },
  {
   "cell_type": "code",
   "execution_count": 5,
   "id": "e76e409e",
   "metadata": {},
   "outputs": [
    {
     "name": "stderr",
     "output_type": "stream",
     "text": [
      "                                                                                \r"
     ]
    }
   ],
   "source": [
    "# load data on spark\n",
    "try:\n",
    "    users_df = spark.read.json(f\"s3a://raw-data/users/{partition_folder}/users.json\", multiLine = True)\n",
    "except Exception as e:\n",
    "    print(f\"⚠️ Could not load users: {e}\")\n",
    "\n",
    "try:\n",
    "    products_df = spark.read.json(f\"s3a://raw-data/products/{partition_folder}/products.json\", multiLine = True)\n",
    "except Exception as e:\n",
    "    print(f\"⚠️ Could not load products: {e}\")\n",
    "\n",
    "try:\n",
    "    carts_df = spark.read.json(f\"s3a://raw-data/carts_{timestamp}.json\", multiLine = True)\n",
    "except Exception as e:\n",
    "    print(f\"⚠️ Could not load carts: {e}\")"
   ]
  },
  {
   "cell_type": "code",
   "execution_count": 6,
   "id": "552d039f",
   "metadata": {},
   "outputs": [
    {
     "name": "stdout",
     "output_type": "stream",
     "text": [
      "\n",
      "\n",
      "Users schema\n",
      "\n",
      "root\n",
      " |-- __v: long (nullable = true)\n",
      " |-- address: struct (nullable = true)\n",
      " |    |-- city: string (nullable = true)\n",
      " |    |-- geolocation: struct (nullable = true)\n",
      " |    |    |-- lat: string (nullable = true)\n",
      " |    |    |-- long: string (nullable = true)\n",
      " |    |-- number: long (nullable = true)\n",
      " |    |-- street: string (nullable = true)\n",
      " |    |-- zipcode: string (nullable = true)\n",
      " |-- email: string (nullable = true)\n",
      " |-- id: long (nullable = true)\n",
      " |-- name: struct (nullable = true)\n",
      " |    |-- firstname: string (nullable = true)\n",
      " |    |-- lastname: string (nullable = true)\n",
      " |-- password: string (nullable = true)\n",
      " |-- phone: string (nullable = true)\n",
      " |-- username: string (nullable = true)\n",
      "\n",
      "+---+--------------------+------------------+---+-----------------+---------+--------------+---------+\n",
      "|__v|             address|             email| id|             name| password|         phone| username|\n",
      "+---+--------------------+------------------+---+-----------------+---------+--------------+---------+\n",
      "|  0|{kilcoole, {-37.3...|    john@gmail.com|  1|      {john, doe}|  m38rmF$|1-570-236-7033|    johnd|\n",
      "|  0|{kilcoole, {-37.3...|morrison@gmail.com|  2|{david, morrison}|   83r5^_|1-570-236-7033| mor_2314|\n",
      "|  0|{Cullman, {40.346...|   kevin@gmail.com|  3|    {kevin, ryan}|kev02937@|1-567-094-1345|kevinryan|\n",
      "|  0|{San Antonio, {50...|     don@gmail.com|  4|     {don, romer}|   ewedon|1-765-789-6734|   donero|\n",
      "|  0|{san Antonio, {40...|   derek@gmail.com|  5|  {derek, powell}| jklg*_56|1-956-001-1945|    derek|\n",
      "+---+--------------------+------------------+---+-----------------+---------+--------------+---------+\n",
      "only showing top 5 rows\n",
      "\n"
     ]
    }
   ],
   "source": [
    "# check schema of data\n",
    "print(\"\\n\\nUsers schema\\n\")\n",
    "users_df.printSchema()\n",
    "users_df.show(5)"
   ]
  },
  {
   "cell_type": "code",
   "execution_count": 7,
   "id": "bd0447ea",
   "metadata": {},
   "outputs": [
    {
     "name": "stdout",
     "output_type": "stream",
     "text": [
      "+---+-----------+--------+--------+------+----------------+----------+------------------+---+---------+--------+---------+--------------+---------+\n",
      "|__V|       city|     lat|    long|number|          street|   zipcode|             email| id|firstname|lastname| password|         phone| username|\n",
      "+---+-----------+--------+--------+------+----------------+----------+------------------+---+---------+--------+---------+--------------+---------+\n",
      "|  0|   kilcoole|-37.3159| 81.1496|  7682|        new road|12926-3874|    john@gmail.com|  1|     john|     doe|  m38rmF$|1-570-236-7033|    johnd|\n",
      "|  0|   kilcoole|-37.3159| 81.1496|  7267|       Lovers Ln|12926-3874|morrison@gmail.com|  2|    david|morrison|   83r5^_|1-570-236-7033| mor_2314|\n",
      "|  0|    Cullman| 40.3467|-30.1310|    86|      Frances Ct|29567-1452|   kevin@gmail.com|  3|    kevin|    ryan|kev02937@|1-567-094-1345|kevinryan|\n",
      "|  0|San Antonio| 50.3467|-20.1310|  6454|Hunters Creek Dr|98234-1734|     don@gmail.com|  4|      don|   romer|   ewedon|1-765-789-6734|   donero|\n",
      "|  0|san Antonio| 40.3467|-40.1310|   245|        adams St|80796-1234|   derek@gmail.com|  5|    derek|  powell| jklg*_56|1-956-001-1945|    derek|\n",
      "+---+-----------+--------+--------+------+----------------+----------+------------------+---+---------+--------+---------+--------------+---------+\n",
      "only showing top 5 rows\n",
      "\n"
     ]
    }
   ],
   "source": [
    "# Explode users_df\n",
    "users_df_flat = users_df.select(\n",
    "    col(\"__V\"),\n",
    "    col(\"address.city\"),\n",
    "    col(\"address.geolocation.lat\"),\n",
    "    col(\"address.geolocation.long\"),\n",
    "    col(\"address.number\"),\n",
    "    col(\"address.street\"),\n",
    "    col(\"address.zipcode\"),\n",
    "    col(\"email\"),\n",
    "    col(\"id\"),\n",
    "    col(\"name.firstname\"),\n",
    "    col(\"name.lastname\"),\n",
    "    col(\"password\"),\n",
    "    col(\"phone\"),\n",
    "    col(\"username\")\n",
    ")\n",
    "\n",
    "users_df_flat.show(5)"
   ]
  },
  {
   "cell_type": "code",
   "execution_count": 8,
   "id": "757fcfd3",
   "metadata": {},
   "outputs": [
    {
     "name": "stdout",
     "output_type": "stream",
     "text": [
      "\n",
      "\n",
      "Products schema\n",
      "\n",
      "root\n",
      " |-- category: string (nullable = true)\n",
      " |-- description: string (nullable = true)\n",
      " |-- id: long (nullable = true)\n",
      " |-- image: string (nullable = true)\n",
      " |-- price: double (nullable = true)\n",
      " |-- rating: struct (nullable = true)\n",
      " |    |-- count: long (nullable = true)\n",
      " |    |-- rate: double (nullable = true)\n",
      " |-- title: string (nullable = true)\n",
      "\n",
      "+--------------+--------------------+---+--------------------+------+----------+--------------------+\n",
      "|      category|         description| id|               image| price|    rating|               title|\n",
      "+--------------+--------------------+---+--------------------+------+----------+--------------------+\n",
      "|men's clothing|Your perfect pack...|  1|https://fakestore...|109.95|{120, 3.9}|Fjallraven - Fold...|\n",
      "|men's clothing|Slim-fitting styl...|  2|https://fakestore...|  22.3|{259, 4.1}|Mens Casual Premi...|\n",
      "|men's clothing|great outerwear j...|  3|https://fakestore...| 55.99|{500, 4.7}|  Mens Cotton Jacket|\n",
      "|men's clothing|The color could b...|  4|https://fakestore...| 15.99|{430, 2.1}|Mens Casual Slim Fit|\n",
      "|      jewelery|From our Legends ...|  5|https://fakestore...| 695.0|{400, 4.6}|John Hardy Women'...|\n",
      "+--------------+--------------------+---+--------------------+------+----------+--------------------+\n",
      "only showing top 5 rows\n",
      "\n"
     ]
    }
   ],
   "source": [
    "# check schema of data\n",
    "print(\"\\n\\nProducts schema\\n\")\n",
    "products_df.printSchema()\n",
    "products_df.show(5)"
   ]
  },
  {
   "cell_type": "code",
   "execution_count": 9,
   "id": "2a4ee330",
   "metadata": {},
   "outputs": [
    {
     "name": "stdout",
     "output_type": "stream",
     "text": [
      "+--------------+--------------------+---+--------------------+------+-----+----+--------------------+\n",
      "|      category|         description| id|               image| price|count|rate|               title|\n",
      "+--------------+--------------------+---+--------------------+------+-----+----+--------------------+\n",
      "|men's clothing|Your perfect pack...|  1|https://fakestore...|109.95|  120| 3.9|Fjallraven - Fold...|\n",
      "|men's clothing|Slim-fitting styl...|  2|https://fakestore...|  22.3|  259| 4.1|Mens Casual Premi...|\n",
      "|men's clothing|great outerwear j...|  3|https://fakestore...| 55.99|  500| 4.7|  Mens Cotton Jacket|\n",
      "|men's clothing|The color could b...|  4|https://fakestore...| 15.99|  430| 2.1|Mens Casual Slim Fit|\n",
      "|      jewelery|From our Legends ...|  5|https://fakestore...| 695.0|  400| 4.6|John Hardy Women'...|\n",
      "+--------------+--------------------+---+--------------------+------+-----+----+--------------------+\n",
      "only showing top 5 rows\n",
      "\n"
     ]
    }
   ],
   "source": [
    "products_df_flat = products_df.select(\n",
    "    col(\"category\"),\n",
    "    col(\"description\"),\n",
    "    col(\"id\"),\n",
    "    col(\"image\"),\n",
    "    col(\"price\"),\n",
    "    col(\"rating.count\"),\n",
    "    col(\"rating.rate\"),\n",
    "    col(\"title\")\n",
    ")\n",
    "\n",
    "products_df_flat.show(5)"
   ]
  },
  {
   "cell_type": "code",
   "execution_count": 10,
   "id": "9f862bb2",
   "metadata": {},
   "outputs": [
    {
     "name": "stdout",
     "output_type": "stream",
     "text": [
      "\n",
      "\n",
      "Carts schema\n",
      "\n",
      "root\n",
      " |-- __v: long (nullable = true)\n",
      " |-- date: string (nullable = true)\n",
      " |-- id: long (nullable = true)\n",
      " |-- products: array (nullable = true)\n",
      " |    |-- element: struct (containsNull = true)\n",
      " |    |    |-- productId: long (nullable = true)\n",
      " |    |    |-- quantity: long (nullable = true)\n",
      " |-- userId: long (nullable = true)\n",
      "\n",
      "+---+----------+---+--------------------+------+\n",
      "|__v|      date| id|            products|userId|\n",
      "+---+----------+---+--------------------+------+\n",
      "|  0|2025-04-10|  1|[{1, 4}, {2, 1}, ...|     1|\n",
      "|  0|2025-04-10|  2|[{2, 4}, {1, 10},...|     1|\n",
      "|  0|2025-04-10|  3|    [{1, 2}, {9, 1}]|     2|\n",
      "|  0|2025-04-10|  4|            [{1, 4}]|     3|\n",
      "|  0|2025-04-10|  5|    [{7, 1}, {8, 1}]|     3|\n",
      "+---+----------+---+--------------------+------+\n",
      "only showing top 5 rows\n",
      "\n"
     ]
    }
   ],
   "source": [
    "# check schema of data\n",
    "print(\"\\n\\nCarts schema\\n\")\n",
    "carts_df.printSchema()\n",
    "carts_df.show(5)"
   ]
  },
  {
   "cell_type": "code",
   "execution_count": 11,
   "id": "1435ff1e",
   "metadata": {},
   "outputs": [
    {
     "name": "stdout",
     "output_type": "stream",
     "text": [
      "+---+----------+---+----------+--------+\n",
      "|__V|      date| id|product_ID|quantity|\n",
      "+---+----------+---+----------+--------+\n",
      "|  0|2025-04-10|  1|         1|       4|\n",
      "|  0|2025-04-10|  1|         2|       1|\n",
      "|  0|2025-04-10|  1|         3|       6|\n",
      "|  0|2025-04-10|  2|         2|       4|\n",
      "|  0|2025-04-10|  2|         1|      10|\n",
      "|  0|2025-04-10|  2|         5|       2|\n",
      "|  0|2025-04-10|  3|         1|       2|\n",
      "|  0|2025-04-10|  3|         9|       1|\n",
      "|  0|2025-04-10|  4|         1|       4|\n",
      "|  0|2025-04-10|  5|         7|       1|\n",
      "|  0|2025-04-10|  5|         8|       1|\n",
      "|  0|2025-04-10|  6|        10|       2|\n",
      "|  0|2025-04-10|  6|        12|       3|\n",
      "|  0|2025-04-10|  7|        18|       1|\n",
      "+---+----------+---+----------+--------+\n",
      "\n"
     ]
    }
   ],
   "source": [
    "carts_df_exploded = carts_df.withColumn(\"product\", explode(col(\"products\")))\n",
    "carts_df_flat = carts_df_exploded.select(\n",
    "    \"__V\",\n",
    "    \"date\",\n",
    "    \"id\",\n",
    "    col(\"product.productID\").alias(\"product_ID\"),\n",
    "    col(\"product.quantity\").alias(\"quantity\")\n",
    ")\n",
    "carts_df_flat.show()"
   ]
  },
  {
   "cell_type": "code",
   "execution_count": 12,
   "id": "d3b7a8b1",
   "metadata": {},
   "outputs": [],
   "source": [
    "# Clarify some column names\n",
    "products_df_flat = products_df_flat.withColumnRenamed(\"id\", \"Product_ID\")\n",
    "users_df_flat = users_df_flat.withColumnRenamed(\"id\", \"User_ID\")\n",
    "carts_df_flat = carts_df_flat.withColumnRenamed(\"id\", \"User_ID\")"
   ]
  },
  {
   "cell_type": "code",
   "execution_count": 13,
   "id": "40e63fbd",
   "metadata": {},
   "outputs": [
    {
     "name": "stdout",
     "output_type": "stream",
     "text": [
      "+----------------+------+-----+----+-------+----------+--------+-----------+------------------+---------+--------+\n",
      "|        category| price|count|rate|User_ID|product_ID|quantity|       city|             email|firstname|lastname|\n",
      "+----------------+------+-----+----+-------+----------+--------+-----------+------------------+---------+--------+\n",
      "|  men's clothing|109.95|  120| 3.9|      1|         1|       4|   kilcoole|    john@gmail.com|     john|     doe|\n",
      "|  men's clothing|  22.3|  259| 4.1|      1|         2|       1|   kilcoole|    john@gmail.com|     john|     doe|\n",
      "|  men's clothing| 55.99|  500| 4.7|      1|         3|       6|   kilcoole|    john@gmail.com|     john|     doe|\n",
      "|  men's clothing|  22.3|  259| 4.1|      2|         2|       4|   kilcoole|morrison@gmail.com|    david|morrison|\n",
      "|  men's clothing|109.95|  120| 3.9|      2|         1|      10|   kilcoole|morrison@gmail.com|    david|morrison|\n",
      "|        jewelery| 695.0|  400| 4.6|      2|         5|       2|   kilcoole|morrison@gmail.com|    david|morrison|\n",
      "|  men's clothing|109.95|  120| 3.9|      3|         1|       2|    Cullman|   kevin@gmail.com|    kevin|    ryan|\n",
      "|     electronics|  64.0|  203| 3.3|      3|         9|       1|    Cullman|   kevin@gmail.com|    kevin|    ryan|\n",
      "|  men's clothing|109.95|  120| 3.9|      4|         1|       4|San Antonio|     don@gmail.com|      don|   romer|\n",
      "|        jewelery|  9.99|  400| 3.0|      5|         7|       1|san Antonio|   derek@gmail.com|    derek|  powell|\n",
      "|        jewelery| 10.99|  100| 1.9|      5|         8|       1|san Antonio|   derek@gmail.com|    derek|  powell|\n",
      "|     electronics| 109.0|  470| 2.9|      6|        10|       2|    el paso| david_r@gmail.com|    david| russell|\n",
      "|     electronics| 114.0|  400| 4.8|      6|        12|       3|    el paso| david_r@gmail.com|    david| russell|\n",
      "|women's clothing|  9.85|  130| 4.7|      7|        18|       1|     fresno|  miriam@gmail.com|   miriam|  snyder|\n",
      "+----------------+------+-----+----+-------+----------+--------+-----------+------------------+---------+--------+\n",
      "\n"
     ]
    }
   ],
   "source": [
    "# Build enriched carts facts data sets with static data from users and products\n",
    "enriched_df = carts_df_flat.join(\n",
    "    products_df_flat,\n",
    "    products_df_flat.Product_ID == carts_df_flat.product_ID,\n",
    "    \"left_outer\"\n",
    ").select(\n",
    "    products_df_flat[\"category\"], \n",
    "    products_df_flat[\"price\"],\n",
    "    products_df_flat[\"count\"], \n",
    "    products_df_flat[\"rate\"],\n",
    "    carts_df_flat[\"User_ID\"],\n",
    "    carts_df_flat[\"product_ID\"],\n",
    "    carts_df_flat[\"quantity\"]\n",
    ")\n",
    "\n",
    "enriched_df = enriched_df.join(\n",
    "    users_df_flat,\n",
    "    users_df_flat.User_ID == enriched_df.User_ID,\n",
    "    \"left_outer\" \n",
    ").select(\n",
    "    enriched_df[\"*\"],\n",
    "    users_df_flat[\"city\"],\n",
    "    users_df_flat[\"email\"],\n",
    "    users_df_flat[\"firstname\"],\n",
    "    users_df_flat[\"lastname\"]\n",
    ")\n",
    "\n",
    "enriched_df.show()"
   ]
  },
  {
   "cell_type": "code",
   "execution_count": 14,
   "id": "f89df720",
   "metadata": {},
   "outputs": [
    {
     "data": {
      "text/plain": [
       "14"
      ]
     },
     "execution_count": 14,
     "metadata": {},
     "output_type": "execute_result"
    }
   ],
   "source": [
    "# We cache the enriched DataFrame because we will reuse it multiple times\n",
    "# for different aggregations (e.g., by category, by user, by product).\n",
    "# Caching avoids recomputing the same transformations and keeps the data in memory\n",
    "# if possible, greatly improving performance in a batch analytics context.\n",
    "enriched_df.cache()\n",
    "enriched_df.count()  # triggers the actual caching (required)"
   ]
  },
  {
   "cell_type": "code",
   "execution_count": 15,
   "id": "5fc3dfbc",
   "metadata": {},
   "outputs": [
    {
     "name": "stdout",
     "output_type": "stream",
     "text": [
      "+----------------+-------------------+\n",
      "|        category|total_revenue_byCat|\n",
      "+----------------+-------------------+\n",
      "|women's clothing|               9.85|\n",
      "|        jewelery|            1410.98|\n",
      "|  men's clothing|            2646.44|\n",
      "|     electronics|              624.0|\n",
      "+----------------+-------------------+\n",
      "\n"
     ]
    }
   ],
   "source": [
    "revenue_by_category = enriched_df.groupBy(\"category\").agg(\n",
    "    sum(col(\"price\") * col(\"quantity\")).alias(\"total_revenue_byCat\")\n",
    ")\n",
    "\n",
    "revenue_by_category.show()"
   ]
  },
  {
   "cell_type": "code",
   "execution_count": 16,
   "id": "59871f0c",
   "metadata": {},
   "outputs": [
    {
     "name": "stdout",
     "output_type": "stream",
     "text": [
      "+-------+---------+--------+------------------+--------------------+\n",
      "|User_ID|firstname|lastname|             email|total_revenue_byUser|\n",
      "+-------+---------+--------+------------------+--------------------+\n",
      "|      2|    david|morrison|morrison@gmail.com|              2578.7|\n",
      "|      1|     john|     doe|    john@gmail.com|              798.04|\n",
      "|      6|    david| russell| david_r@gmail.com|               560.0|\n",
      "|      4|      don|   romer|     don@gmail.com|               439.8|\n",
      "|      3|    kevin|    ryan|   kevin@gmail.com|               283.9|\n",
      "|      5|    derek|  powell|   derek@gmail.com|               20.98|\n",
      "|      7|   miriam|  snyder|  miriam@gmail.com|                9.85|\n",
      "+-------+---------+--------+------------------+--------------------+\n",
      "\n"
     ]
    }
   ],
   "source": [
    "revenue_by_users_ID = enriched_df.groupBy(\"User_ID\", \"firstname\",\"lastname\", \"email\").agg(\n",
    "    sum(col(\"price\") * col(\"quantity\")).alias(\"total_revenue_byUser\")\n",
    ").orderBy(col(\"total_revenue_byUser\").desc())\n",
    "revenue_by_users_ID.show()"
   ]
  },
  {
   "cell_type": "code",
   "execution_count": 17,
   "id": "2a7eeb86",
   "metadata": {},
   "outputs": [
    {
     "name": "stdout",
     "output_type": "stream",
     "text": [
      "[Row(total_day_revenue=4691.27)]\n"
     ]
    }
   ],
   "source": [
    "total_day_revenue = enriched_df.agg(\n",
    "    round(sum(col(\"price\") * col(\"quantity\")),2).alias(\"total_day_revenue\")\n",
    ")\n",
    "\n",
    "print(total_day_revenue.collect())"
   ]
  },
  {
   "cell_type": "code",
   "execution_count": 20,
   "id": "48217a4a",
   "metadata": {},
   "outputs": [
    {
     "name": "stdout",
     "output_type": "stream",
     "text": [
      "+----------+----------------+------------+\n",
      "|Product_ID|        category|tot_quantity|\n",
      "+----------+----------------+------------+\n",
      "|         1|  men's clothing|          20|\n",
      "|         3|  men's clothing|           6|\n",
      "|         2|  men's clothing|           5|\n",
      "|        12|     electronics|           3|\n",
      "|        10|     electronics|           2|\n",
      "|         5|        jewelery|           2|\n",
      "|         8|        jewelery|           1|\n",
      "|         7|        jewelery|           1|\n",
      "|         9|     electronics|           1|\n",
      "|        18|women's clothing|           1|\n",
      "+----------+----------------+------------+\n",
      "\n"
     ]
    }
   ],
   "source": [
    "total_quantity_per_prod = enriched_df.groupBy(\"Product_ID\", \"category\").agg(\n",
    "    sum(col(\"quantity\")).alias(\"quantity_per_productID\")\n",
    ").orderBy(col(\"quantity_per_productID\").desc())\n",
    "total_quantity_per_prod.show()"
   ]
  },
  {
   "cell_type": "code",
   "execution_count": 25,
   "id": "0d66b200",
   "metadata": {},
   "outputs": [
    {
     "name": "stdout",
     "output_type": "stream",
     "text": [
      "+-------+---------+--------+------------------+---------------------+\n",
      "|User_ID|firstname|lastname|             email|avg_ordval_per_UserID|\n",
      "+-------+---------+--------+------------------+---------------------+\n",
      "|      2|    david|morrison|morrison@gmail.com|               275.75|\n",
      "|      6|    david| russell| david_r@gmail.com|                111.5|\n",
      "|      4|      don|   romer|     don@gmail.com|               109.95|\n",
      "|      3|    kevin|    ryan|   kevin@gmail.com|                86.98|\n",
      "|      1|     john|     doe|    john@gmail.com|                62.75|\n",
      "|      5|    derek|  powell|   derek@gmail.com|                10.49|\n",
      "|      7|   miriam|  snyder|  miriam@gmail.com|                 9.85|\n",
      "+-------+---------+--------+------------------+---------------------+\n",
      "\n"
     ]
    }
   ],
   "source": [
    "avg_ordval_per_user = enriched_df.groupBy(\"User_ID\", \"firstname\", \"lastname\", \"email\").agg(\n",
    "    round(avg(col(\"price\")), 2).alias(\"avg_ordval_per_UserID\")\n",
    ").orderBy(col(\"avg_ordval_per_UserID\").desc())\n",
    "avg_ordval_per_user.show()"
   ]
  },
  {
   "cell_type": "code",
   "execution_count": 38,
   "id": "9e8c36bc",
   "metadata": {},
   "outputs": [
    {
     "name": "stdout",
     "output_type": "stream",
     "text": [
      "+----------------+--------------------------------+\n",
      "|        category|Weighted_avg_rating_per_category|\n",
      "+----------------+--------------------------------+\n",
      "|women's clothing|                             4.7|\n",
      "|  men's clothing|                             4.2|\n",
      "|     electronics|                             3.7|\n",
      "|        jewelery|                             3.6|\n",
      "+----------------+--------------------------------+\n",
      "\n"
     ]
    }
   ],
   "source": [
    "avg_rat_per_cat = enriched_df.groupBy(\"category\").agg(\n",
    "    round((sum(col(\"rate\") * col(\"count\")) / sum(col(\"count\"))),1).alias(\"Weighted_avg_rating_per_category\")\n",
    ").orderBy(col(\"Weighted_avg_rating_per_category\").desc())\n",
    "\n",
    "avg_rat_per_cat.show()"
   ]
  },
  {
   "cell_type": "code",
   "execution_count": 40,
   "id": "c3915dfc",
   "metadata": {},
   "outputs": [
    {
     "name": "stdout",
     "output_type": "stream",
     "text": [
      "+-----------+------------------+\n",
      "|       city|Total_revenue_city|\n",
      "+-----------+------------------+\n",
      "|   kilcoole|           3376.74|\n",
      "|    el paso|             560.0|\n",
      "|San Antonio|             439.8|\n",
      "|    Cullman|             283.9|\n",
      "|san Antonio|             20.98|\n",
      "|     fresno|              9.85|\n",
      "+-----------+------------------+\n",
      "\n"
     ]
    }
   ],
   "source": [
    "total_revenue_per_city = enriched_df.groupBy(\"city\").agg(\n",
    "    round(sum(col(\"quantity\") * col(\"price\")),2).alias(\"Total_revenue_city\")\n",
    ").orderBy(col(\"Total_revenue_city\").desc())\n",
    "total_revenue_per_city.show()"
   ]
  },
  {
   "cell_type": "code",
   "execution_count": 42,
   "id": "a616caa0",
   "metadata": {},
   "outputs": [
    {
     "name": "stdout",
     "output_type": "stream",
     "text": [
      "+----------+-------------+\n",
      "|product_ID|Num_prod_sold|\n",
      "+----------+-------------+\n",
      "|         1|            4|\n",
      "|         2|            2|\n",
      "|         7|            1|\n",
      "|         9|            1|\n",
      "|         5|            1|\n",
      "|        10|            1|\n",
      "|         3|            1|\n",
      "|        12|            1|\n",
      "|         8|            1|\n",
      "|        18|            1|\n",
      "+----------+-------------+\n",
      "\n"
     ]
    }
   ],
   "source": [
    "num_of_prod_sold = enriched_df.groupBy(\"product_ID\").agg(\n",
    "    count(\"product_ID\").alias(\"Num_prod_sold\")\n",
    ").orderBy(col(\"Num_prod_sold\").desc())\n",
    "\n",
    "num_of_prod_sold.show()"
   ]
  },
  {
   "cell_type": "code",
   "execution_count": 50,
   "id": "4005b46f",
   "metadata": {},
   "outputs": [
    {
     "name": "stdout",
     "output_type": "stream",
     "text": [
      "+----------------+----------+------------------+\n",
      "|        category|product_ID|revenue_prod_byCat|\n",
      "+----------------+----------+------------------+\n",
      "|  men's clothing|         1|            2199.0|\n",
      "|        jewelery|         5|            1390.0|\n",
      "|     electronics|        12|             342.0|\n",
      "|  men's clothing|         3|            335.94|\n",
      "|     electronics|        10|             218.0|\n",
      "|  men's clothing|         2|             111.5|\n",
      "|     electronics|         9|              64.0|\n",
      "|        jewelery|         8|             10.99|\n",
      "|        jewelery|         7|              9.99|\n",
      "|women's clothing|        18|              9.85|\n",
      "+----------------+----------+------------------+\n",
      "\n"
     ]
    }
   ],
   "source": [
    "rev_prod_cat = enriched_df.groupBy(\"category\", \"product_ID\").agg(\n",
    "    sum(col(\"price\") * col(\"quantity\")).alias(\"revenue_prod_byCat\")\n",
    ").orderBy(col(\"revenue_prod_byCat\").desc())\n",
    "rev_prod_cat.show()"
   ]
  },
  {
   "cell_type": "code",
   "execution_count": null,
   "id": "14ac531c",
   "metadata": {},
   "outputs": [
    {
     "name": "stdout",
     "output_type": "stream",
     "text": [
      "+-------+---------+--------+------------------+----------------+\n",
      "|user_ID|firstname|lastname|             email|Top_user_revenue|\n",
      "+-------+---------+--------+------------------+----------------+\n",
      "|      2|    david|morrison|morrison@gmail.com|          2578.7|\n",
      "+-------+---------+--------+------------------+----------------+\n",
      "\n"
     ]
    }
   ],
   "source": [
    "top_user_rev = enriched_df.groupBy(\"user_ID\", \"firstname\", \"lastname\", \"email\").agg(\n",
    "    sum(col(\"price\") * col(\"quantity\")).alias(\"Top_user_revenue\")\n",
    ").orderBy(col(\"Top_user_revenue\").desc()).limit(1)"
   ]
  },
  {
   "cell_type": "code",
   "execution_count": 57,
   "id": "8c554223",
   "metadata": {},
   "outputs": [
    {
     "name": "stdout",
     "output_type": "stream",
     "text": [
      "+----------+--------------+-------------------+\n",
      "|product_ID|      category|Top_product_revenue|\n",
      "+----------+--------------+-------------------+\n",
      "|         1|men's clothing|             2199.0|\n",
      "+----------+--------------+-------------------+\n",
      "\n"
     ]
    }
   ],
   "source": [
    "top_prod_rev = enriched_df.groupBy(\"product_ID\", \"category\").agg(\n",
    "    sum(col(\"price\") * col(\"quantity\")).alias(\"Top_product_revenue\")\n",
    ").orderBy(col(\"Top_product_revenue\").desc()).limit(1)\n",
    "top_prod_rev.show()"
   ]
  },
  {
   "cell_type": "code",
   "execution_count": 58,
   "id": "edce4bcc",
   "metadata": {},
   "outputs": [
    {
     "name": "stdout",
     "output_type": "stream",
     "text": [
      "+-----------+--------------+\n",
      "|       city|Orders_by_city|\n",
      "+-----------+--------------+\n",
      "|   kilcoole|            27|\n",
      "|    el paso|             5|\n",
      "|San Antonio|             4|\n",
      "|    Cullman|             3|\n",
      "|san Antonio|             2|\n",
      "|     fresno|             1|\n",
      "+-----------+--------------+\n",
      "\n"
     ]
    }
   ],
   "source": [
    "ord_bycity = enriched_df.groupBy(\"city\").agg(\n",
    "    sum(col(\"quantity\")).alias(\"Orders_by_city\")\n",
    ").orderBy(col(\"Orders_by_city\").desc())\n",
    "ord_bycity.show()"
   ]
  }
 ],
 "metadata": {
  "kernelspec": {
   "display_name": "venv",
   "language": "python",
   "name": "python3"
  },
  "language_info": {
   "codemirror_mode": {
    "name": "ipython",
    "version": 3
   },
   "file_extension": ".py",
   "mimetype": "text/x-python",
   "name": "python",
   "nbconvert_exporter": "python",
   "pygments_lexer": "ipython3",
   "version": "3.12.3"
  }
 },
 "nbformat": 4,
 "nbformat_minor": 5
}
